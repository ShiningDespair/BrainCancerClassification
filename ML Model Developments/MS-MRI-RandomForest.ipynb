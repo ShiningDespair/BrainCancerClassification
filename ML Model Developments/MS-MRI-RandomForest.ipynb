{
 "cells": [
  {
   "cell_type": "markdown",
   "id": "a4c82a49",
   "metadata": {},
   "source": [
    "# Proje: MS Hastaları İçin Engellilik Skoru (EDSS) Tahmini\n",
    "\n",
    "**Amaç:** Bu proje, hastalara ait demografik veriler ile beyin MR'larından elde edilen sayısal ölçümleri (toplam lezyon hacmi, lezyon sayısı vb.) kullanarak, hastanın engellilik skorunu (EDSS) tahmin eden bir makine öğrenmesi modeli geliştirmeyi hedefler.\n",
    "\n",
    "**Yaklaşım:** Bu bir **regresyon** problemidir. Girdi olarak bir tablo verisi alıp, çıktı olarak sürekli bir sayısal değer (EDSS skoru) üreten klasik makine öğrenmesi modelleri (örneğin, Random Forest) kullanacağız. Bu notebook, görüntü işleme (CNN) **içermez**."
   ]
  },
  {
   "cell_type": "code",
   "execution_count": 1,
   "id": "f0a94b7b",
   "metadata": {},
   "outputs": [],
   "source": [
    "# Gerekli Kütüphanelerin Yüklenmesi\n",
    "import os\n",
    "import pandas as pd\n",
    "import nibabel as nib\n",
    "import numpy as np\n",
    "from tqdm import tqdm\n",
    "from pathlib import Path\n",
    "import joblib\n",
    "from scipy.ndimage import label\n",
    "\n",
    "# Makine Öğrenmesi\n",
    "from sklearn.model_selection import train_test_split\n",
    "from sklearn.ensemble import RandomForestRegressor\n",
    "from sklearn.metrics import mean_absolute_error, r2_score\n",
    "\n",
    "# Görselleştirme\n",
    "import matplotlib.pyplot as plt\n",
    "import seaborn as sns\n"
   ]
  },
  {
   "cell_type": "markdown",
   "id": "7dd1c01f",
   "metadata": {},
   "source": [
    "## Adım 1: Veri Yükleme ve Özellik Mühendisliği (Feature Engineering)\n",
    "\n",
    "Bu adımda, farklı kaynaklardan (klinik excel dosyası, lezyon maskeleri) gelen verileri birleştirerek modelimizi eğitmek için kullanacağımız ana veri çerçevesini (DataFrame) oluşturacağız."
   ]
  },
  {
   "cell_type": "code",
   "execution_count": 2,
   "id": "8ace57d0",
   "metadata": {},
   "outputs": [
    {
     "name": "stdout",
     "output_type": "stream",
     "text": [
      "Klinik veriler yükleniyor...\n",
      "Klinik veri işlendi ve 'Disease Duration (Years)' sütunu eklendi.\n"
     ]
    },
    {
     "name": "stderr",
     "output_type": "stream",
     "text": [
      "FLAIR Lezyon Hacimleri ve Sayıları Hesaplanıyor: 100%|██████████| 60/60 [00:08<00:00,  7.35it/s]\n",
      "T1 Black Hole Hacimleri ve Sayıları Hesaplanıyor: 100%|██████████| 60/60 [00:12<00:00,  4.73it/s]"
     ]
    },
    {
     "name": "stdout",
     "output_type": "stream",
     "text": [
      "Klinik veri: 60 hasta\n",
      "FLAIR lezyon verisi: 60 hasta\n",
      "T1 lezyon verisi: 60 hasta\n",
      "\n",
      "Tüm veri kaynakları birleştiriliyor...\n",
      "TÜM VERİLER BİRLEŞTİRİLDİKTEN SONRA (final_df): 60 hasta\n",
      "Toplam 60 hasta için birleştirilmiş ve zenginleştirilmiş veri seti oluşturuldu.\n",
      "\n",
      "Oluşturulan veri setinin ilk 5 satırı:\n"
     ]
    },
    {
     "name": "stderr",
     "output_type": "stream",
     "text": [
      "\n"
     ]
    },
    {
     "data": {
      "text/html": [
       "<div>\n",
       "<style scoped>\n",
       "    .dataframe tbody tr th:only-of-type {\n",
       "        vertical-align: middle;\n",
       "    }\n",
       "\n",
       "    .dataframe tbody tr th {\n",
       "        vertical-align: top;\n",
       "    }\n",
       "\n",
       "    .dataframe thead th {\n",
       "        text-align: right;\n",
       "    }\n",
       "</style>\n",
       "<table border=\"1\" class=\"dataframe\">\n",
       "  <thead>\n",
       "    <tr style=\"text-align: right;\">\n",
       "      <th></th>\n",
       "      <th>PatientID</th>\n",
       "      <th>Age</th>\n",
       "      <th>Gender</th>\n",
       "      <th>EDSS</th>\n",
       "      <th>Age of onset</th>\n",
       "      <th>Disease Duration (Years)</th>\n",
       "      <th>LesionVoxelCount_FLAIR</th>\n",
       "      <th>LesionCount_FLAIR</th>\n",
       "      <th>BlackHole_VoxelCount_T1</th>\n",
       "      <th>BlackHole_Count_T1</th>\n",
       "    </tr>\n",
       "  </thead>\n",
       "  <tbody>\n",
       "    <tr>\n",
       "      <th>0</th>\n",
       "      <td>1</td>\n",
       "      <td>56</td>\n",
       "      <td>F</td>\n",
       "      <td>3.0</td>\n",
       "      <td>43</td>\n",
       "      <td>13</td>\n",
       "      <td>776</td>\n",
       "      <td>52</td>\n",
       "      <td>416</td>\n",
       "      <td>8</td>\n",
       "    </tr>\n",
       "    <tr>\n",
       "      <th>1</th>\n",
       "      <td>2</td>\n",
       "      <td>29</td>\n",
       "      <td>F</td>\n",
       "      <td>1.5</td>\n",
       "      <td>19</td>\n",
       "      <td>10</td>\n",
       "      <td>2485</td>\n",
       "      <td>33</td>\n",
       "      <td>3666</td>\n",
       "      <td>12</td>\n",
       "    </tr>\n",
       "    <tr>\n",
       "      <th>2</th>\n",
       "      <td>3</td>\n",
       "      <td>15</td>\n",
       "      <td>F</td>\n",
       "      <td>4.0</td>\n",
       "      <td>8</td>\n",
       "      <td>7</td>\n",
       "      <td>2273</td>\n",
       "      <td>65</td>\n",
       "      <td>622</td>\n",
       "      <td>9</td>\n",
       "    </tr>\n",
       "    <tr>\n",
       "      <th>3</th>\n",
       "      <td>4</td>\n",
       "      <td>24</td>\n",
       "      <td>F</td>\n",
       "      <td>6.0</td>\n",
       "      <td>20</td>\n",
       "      <td>4</td>\n",
       "      <td>4906</td>\n",
       "      <td>21</td>\n",
       "      <td>4212</td>\n",
       "      <td>34</td>\n",
       "    </tr>\n",
       "    <tr>\n",
       "      <th>4</th>\n",
       "      <td>5</td>\n",
       "      <td>33</td>\n",
       "      <td>F</td>\n",
       "      <td>0.0</td>\n",
       "      <td>31</td>\n",
       "      <td>2</td>\n",
       "      <td>2109</td>\n",
       "      <td>59</td>\n",
       "      <td>1053</td>\n",
       "      <td>7</td>\n",
       "    </tr>\n",
       "  </tbody>\n",
       "</table>\n",
       "</div>"
      ],
      "text/plain": [
       "   PatientID  Age Gender  EDSS  Age of onset  Disease Duration (Years)  \\\n",
       "0          1   56      F   3.0            43                        13   \n",
       "1          2   29      F   1.5            19                        10   \n",
       "2          3   15      F   4.0             8                         7   \n",
       "3          4   24      F   6.0            20                         4   \n",
       "4          5   33      F   0.0            31                         2   \n",
       "\n",
       "   LesionVoxelCount_FLAIR  LesionCount_FLAIR  BlackHole_VoxelCount_T1  \\\n",
       "0                     776                 52                      416   \n",
       "1                    2485                 33                     3666   \n",
       "2                    2273                 65                      622   \n",
       "3                    4906                 21                     4212   \n",
       "4                    2109                 59                     1053   \n",
       "\n",
       "   BlackHole_Count_T1  \n",
       "0                   8  \n",
       "1                  12  \n",
       "2                   9  \n",
       "3                  34  \n",
       "4                   7  "
      ]
     },
     "metadata": {},
     "output_type": "display_data"
    },
    {
     "name": "stdout",
     "output_type": "stream",
     "text": [
      "\n",
      "Veri setinin özeti:\n",
      "<class 'pandas.core.frame.DataFrame'>\n",
      "RangeIndex: 60 entries, 0 to 59\n",
      "Data columns (total 10 columns):\n",
      " #   Column                    Non-Null Count  Dtype  \n",
      "---  ------                    --------------  -----  \n",
      " 0   PatientID                 60 non-null     int64  \n",
      " 1   Age                       60 non-null     int64  \n",
      " 2   Gender                    60 non-null     object \n",
      " 3   EDSS                      60 non-null     float64\n",
      " 4   Age of onset              60 non-null     int64  \n",
      " 5   Disease Duration (Years)  60 non-null     int64  \n",
      " 6   LesionVoxelCount_FLAIR    60 non-null     int64  \n",
      " 7   LesionCount_FLAIR         60 non-null     int64  \n",
      " 8   BlackHole_VoxelCount_T1   60 non-null     int64  \n",
      " 9   BlackHole_Count_T1        60 non-null     int64  \n",
      "dtypes: float64(1), int64(8), object(1)\n",
      "memory usage: 4.8+ KB\n"
     ]
    }
   ],
   "source": [
    "MRI_BASE_PATH = Path(\"../BrainCancerClassification/BrainCancerClassification/Data/MultipleSclerosisMRI\")\n",
    "\n",
    "print(\"Klinik veriler yükleniyor...\")\n",
    "clinical_df = pd.read_excel(MRI_BASE_PATH / \"InfoPatient.xlsx\", header=1)\n",
    "clinical_df.rename(columns={\"ID\": \"PatientID\"}, inplace=True)\n",
    "\n",
    "required_cols = ['PatientID', 'Age', 'Gender', 'EDSS', 'Age of onset']\n",
    "clinical_df = clinical_df[required_cols].copy()\n",
    "clinical_df.dropna(subset=['EDSS'], inplace=True)\n",
    "clinical_df['Disease Duration (Years)'] = clinical_df['Age'] - clinical_df['Age of onset']\n",
    "print(\"Klinik veri işlendi ve 'Disease Duration (Years)' sütunu eklendi.\")\n",
    "\n",
    "\n",
    "# --- FLAIR Lezyon Hacimlerini ve Sayılarını Hesapla ---\n",
    "patient_folders = sorted([f for f in os.listdir(MRI_BASE_PATH) if f.startswith(\"Patient\")])\n",
    "flair_lesion_features = []\n",
    "\n",
    "for folder in tqdm(patient_folders, desc=\"FLAIR Lezyon Hacimleri ve Sayıları Hesaplanıyor\"):\n",
    "    pid = int(folder.split(\"-\")[-1])\n",
    "    try:\n",
    "        seg_path = MRI_BASE_PATH / folder / f\"{pid}-LesionSeg-Flair.nii\"\n",
    "        seg_data = nib.load(seg_path).get_fdata()\n",
    "        \n",
    "        flair_lesion_features.append({\n",
    "            'PatientID': pid,\n",
    "            'LesionVoxelCount_FLAIR': np.count_nonzero(seg_data),\n",
    "            'LesionCount_FLAIR': label(seg_data)[1]\n",
    "        })\n",
    "    except FileNotFoundError:\n",
    "        continue\n",
    "flair_lesion_df = pd.DataFrame(flair_lesion_features)\n",
    "\n",
    "\n",
    "# --- T1 Black Hole Hacimlerini ve Sayılarını Hesapla ---\n",
    "t1_lesion_features = []\n",
    "for folder in tqdm(patient_folders, desc=\"T1 Black Hole Hacimleri ve Sayıları Hesaplanıyor\"):\n",
    "    pid = int(folder.split(\"-\")[-1])\n",
    "    try:\n",
    "        seg_path = MRI_BASE_PATH / folder / f\"{pid}-LesionSeg-T1.nii\"\n",
    "        seg_data = nib.load(seg_path).get_fdata()\n",
    "        \n",
    "        t1_lesion_features.append({\n",
    "            'PatientID': pid,\n",
    "            'BlackHole_VoxelCount_T1': np.count_nonzero(seg_data),\n",
    "            'BlackHole_Count_T1': label(seg_data)[1]\n",
    "        })\n",
    "    except FileNotFoundError:\n",
    "        continue\n",
    "t1_lesion_df = pd.DataFrame(t1_lesion_features)\n",
    "\n",
    "print(f\"Klinik veri: {len(clinical_df)} hasta\")\n",
    "print(f\"FLAIR lezyon verisi: {len(flair_lesion_df)} hasta\")\n",
    "print(f\"T1 lezyon verisi: {len(t1_lesion_df)} hasta\")\n",
    "\n",
    "# --- 1.4. Tüm Verileri Birleştir ---\n",
    "print(\"\\nTüm veri kaynakları birleştiriliyor...\")\n",
    "# Önce klinik ve FLAIR verilerini birleştir\n",
    "final_df = pd.merge(clinical_df, flair_lesion_df, on=\"PatientID\", how=\"inner\")\n",
    "# Ardından T1 verilerini ekle\n",
    "final_df = pd.merge(final_df, t1_lesion_df, on=\"PatientID\", how=\"inner\")\n",
    "print(f\"TÜM VERİLER BİRLEŞTİRİLDİKTEN SONRA (final_df): {len(final_df)} hasta\")\n",
    "\n",
    "print(f\"Toplam {len(final_df)} hasta için birleştirilmiş ve zenginleştirilmiş veri seti oluşturuldu.\")\n",
    "print(\"\\nOluşturulan veri setinin ilk 5 satırı:\")\n",
    "display(final_df.head())\n",
    "print(\"\\nVeri setinin özeti:\")\n",
    "final_df.info()\n"
   ]
  },
  {
   "cell_type": "code",
   "execution_count": 3,
   "id": "9e455129",
   "metadata": {},
   "outputs": [
    {
     "name": "stdout",
     "output_type": "stream",
     "text": [
      "<class 'pandas.core.frame.DataFrame'>\n",
      "RangeIndex: 60 entries, 0 to 59\n",
      "Data columns (total 10 columns):\n",
      " #   Column                    Non-Null Count  Dtype  \n",
      "---  ------                    --------------  -----  \n",
      " 0   PatientID                 60 non-null     int64  \n",
      " 1   Age                       60 non-null     int64  \n",
      " 2   Gender                    60 non-null     object \n",
      " 3   EDSS                      60 non-null     float64\n",
      " 4   Age of onset              60 non-null     int64  \n",
      " 5   Disease Duration (Years)  60 non-null     int64  \n",
      " 6   LesionVoxelCount_FLAIR    60 non-null     int64  \n",
      " 7   LesionCount_FLAIR         60 non-null     int64  \n",
      " 8   BlackHole_VoxelCount_T1   60 non-null     int64  \n",
      " 9   BlackHole_Count_T1        60 non-null     int64  \n",
      "dtypes: float64(1), int64(8), object(1)\n",
      "memory usage: 4.8+ KB\n"
     ]
    }
   ],
   "source": [
    "# Veri setinin özetini ve tiplerini kontrol edelim\n",
    "final_df.info()"
   ]
  },
  {
   "cell_type": "markdown",
   "id": "caebba21",
   "metadata": {},
   "source": [
    "## Adım 2: Model İçin Veriyi Hazırlama\n",
    "\n",
    "Oluşturduğumuz tablodan modelin öğreneceği özellikleri (X) ve tahmin edeceği hedefi (y) seçecek, ardından bu veriyi eğitim ve test setleri olarak ikiye ayıracağız."
   ]
  },
  {
   "cell_type": "code",
   "execution_count": 4,
   "id": "dbcad816",
   "metadata": {},
   "outputs": [
    {
     "name": "stdout",
     "output_type": "stream",
     "text": [
      "\n",
      "Model için kullanılacak özellikler: ['Age', 'Disease Duration (Years)', 'LesionVoxelCount_FLAIR', 'LesionCount_FLAIR', 'BlackHole_VoxelCount_T1', 'BlackHole_Count_T1', 'Gender_M']\n",
      "\n",
      "Eğitim seti boyutu: 48 hasta\n",
      "Test seti boyutu: 12 hasta\n"
     ]
    }
   ],
   "source": [
    "# Kategorik olan 'Gender' sütununu sayısal hale getirelim (One-Hot Encoding)\n",
    "if 'Gender' in final_df.columns:\n",
    "    final_df = pd.get_dummies(final_df, columns=['Gender'], drop_first=True)\n",
    "    gender_col_name = 'Gender_M'\n",
    "else:\n",
    "    gender_col_name = None\n",
    "\n",
    "# Özellik (X) ve Hedef (y) Seçimi\n",
    "# YENİ: T1 Black Hole özelliklerini de listeye ekliyoruz!\n",
    "features = [\n",
    "    'Age', \n",
    "    'Disease Duration (Years)', \n",
    "    'LesionVoxelCount_FLAIR', \n",
    "    'LesionCount_FLAIR',\n",
    "    'BlackHole_VoxelCount_T1',\n",
    "    'BlackHole_Count_T1'\n",
    "]\n",
    "if gender_col_name:\n",
    "    features.append(gender_col_name)\n",
    "\n",
    "target = 'EDSS'\n",
    "\n",
    "print(f\"\\nModel için kullanılacak özellikler: {features}\")\n",
    "\n",
    "# Eksik veri içeren satırları (varsa) temizleyelim\n",
    "final_df.dropna(subset=features + [target], inplace=True)\n",
    "\n",
    "X = final_df[features]\n",
    "y = final_df[target]\n",
    "\n",
    "# Veriyi Eğitim ve Test Olarak Ayırma (%80 Eğitim, %20 Test)\n",
    "X_train, X_test, y_train, y_test = train_test_split(X, y, test_size=0.2, random_state=42)\n",
    "\n",
    "print(f\"\\nEğitim seti boyutu: {X_train.shape[0]} hasta\")\n",
    "print(f\"Test seti boyutu: {X_test.shape[0]} hasta\")\n"
   ]
  },
  {
   "cell_type": "markdown",
   "id": "c0d75437",
   "metadata": {},
   "source": [
    "## Adım 3: Modelin Oluşturulması ve Eğitilmesi\n",
    "\n",
    "Bu problem için robust ve yorumlanabilir olması nedeniyle **Random Forest Regressor** modelini kullanacağız. Model, verdiğimiz özellikler ve EDSS skorları arasındaki ilişkiyi öğrenecektir."
   ]
  },
  {
   "cell_type": "code",
   "execution_count": 5,
   "id": "406664fe",
   "metadata": {},
   "outputs": [
    {
     "name": "stdout",
     "output_type": "stream",
     "text": [
      "\n",
      "Random Forest Regressor modeli eğitiliyor...\n",
      "Model eğitimi tamamlandı.\n"
     ]
    }
   ],
   "source": [
    "# Bu problem için robust ve yorumlanabilir olması nedeniyle Random Forest Regressor modelini kullanacağız. \n",
    "# Model, verdiğimiz özellikler ve EDSS skorları arasındaki ilişkiyi öğrenecektir.\n",
    "rf_model = RandomForestRegressor(n_estimators=100, random_state=42, n_jobs=-1)\n",
    "\n",
    "print(\"\\nRandom Forest Regressor modeli eğitiliyor...\")\n",
    "rf_model.fit(X_train, y_train)\n",
    "print(\"Model eğitimi tamamlandı.\")"
   ]
  },
  {
   "cell_type": "markdown",
   "id": "1585b5d1",
   "metadata": {},
   "source": [
    "## Adım 4: Model Değerlendirme\n",
    "\n",
    "Modelimizin ne kadar başarılı olduğunu görmek için test seti üzerinde tahminler yapacak ve performansını ölçeceğiz.\n",
    "\n",
    "* **Ortalama Mutlak Hata (MAE):** Modelimizin tahminlerinin gerçek değerlerden ortalama ne kadar saptığını gösterir. Düşük olması daha iyidir.\n",
    "* **R-kare (R²):** Modelimizin, hedef değişkendeki varyansın ne kadarını açıklayabildiğini gösterir. 1'e ne kadar yakınsa o kadar iyidir."
   ]
  },
  {
   "cell_type": "code",
   "execution_count": 6,
   "id": "add96c50",
   "metadata": {},
   "outputs": [
    {
     "name": "stdout",
     "output_type": "stream",
     "text": [
      "\n",
      "--- Model Değerlendirme ---\n",
      "Ortalama Mutlak Hata (MAE): 1.355\n",
      "R-kare (R²) Skoru: -0.239\n",
      "\n",
      "Modelimiz, test setindeki EDSS skorlarını ortalama +/- 1.35 puan farkla tahmin etmektedir.\n"
     ]
    },
    {
     "data": {
      "image/png": "[encoded data removed]",
      "text/plain": [
       "<Figure size 1000x600 with 1 Axes>"
      ]
     },
     "metadata": {},
     "output_type": "display_data"
    },
    {
     "data": {
      "image/png": "[encoded data removed]",
      "text/plain": [
       "<Figure size 1000x600 with 1 Axes>"
      ]
     },
     "metadata": {},
     "output_type": "display_data"
    }
   ],
   "source": [
    "print(\"\\n--- Model Değerlendirme ---\")\n",
    "\n",
    "# Test seti üzerinde tahmin yap\n",
    "predictions = rf_model.predict(X_test)\n",
    "\n",
    "# Performans metriklerini hesapla\n",
    "mae = mean_absolute_error(y_test, predictions)\n",
    "r2 = r2_score(y_test, predictions)\n",
    "\n",
    "print(f\"Ortalama Mutlak Hata (MAE): {mae:.3f}\")\n",
    "print(f\"R-kare (R²) Skoru: {r2:.3f}\")\n",
    "print(f\"\\nModelimiz, test setindeki EDSS skorlarını ortalama +/- {mae:.2f} puan farkla tahmin etmektedir.\")\n",
    "\n",
    "### Görsel Değerlendirme\n",
    "\n",
    "# Tahmin vs Gerçek Değer Grafiği\n",
    "plt.figure(figsize=(10, 6))\n",
    "sns.scatterplot(x=y_test, y=predictions, alpha=0.6)\n",
    "plt.plot([y.min(), y.max()], [y.min(), y.max()], '--', color='red', linewidth=2) # Mükemmel tahmin çizgisi\n",
    "plt.title('Gerçek EDSS vs. Tahmin Edilen EDSS')\n",
    "plt.xlabel('Gerçek EDSS Değerleri')\n",
    "plt.ylabel('Tahmin Edilen EDSS Değerleri')\n",
    "plt.show()\n",
    "\n",
    "# Özellik Önem Düzeyleri Grafiği\n",
    "feature_importances = pd.Series(rf_model.feature_importances_, index=features).sort_values(ascending=False)\n",
    "\n",
    "plt.figure(figsize=(10, 6))\n",
    "sns.barplot(x=feature_importances, y=feature_importances.index)\n",
    "plt.title('Model İçin Özellik Önem Düzeyleri')\n",
    "plt.xlabel('Önem Skoru')\n",
    "plt.ylabel('Özellikler')\n",
    "plt.show()"
   ]
  },
  {
   "cell_type": "markdown",
   "id": "b9ffc9f3",
   "metadata": {},
   "source": [
    "### Görsel Değerlendirme\n",
    "\n",
    "Modelin performansını daha iyi anlamak için tahmin edilen ve gerçek değerleri karşılaştıran bir grafik çizelim. Ayrıca, modelin hangi özellikleri en önemli bulduğunu gösteren bir grafik de oluşturalım."
   ]
  },
  {
   "cell_type": "code",
   "execution_count": 7,
   "id": "e439a10b",
   "metadata": {},
   "outputs": [
    {
     "name": "stdout",
     "output_type": "stream",
     "text": [
      "Model başarıyla 'edss_prediction_random_forest.joblib' olarak kaydedildi.\n"
     ]
    }
   ],
   "source": [
    "# Eğittiğimiz bu başarılı modeli, daha sonra web uygulaması gibi platformlarda kullanmak üzere bir dosyaya kaydediyoruz.\n",
    "model_filename = \"edss_prediction_random_forest.joblib\"\n",
    "joblib.dump(rf_model, model_filename)\n",
    "\n",
    "print(f\"Model başarıyla '{model_filename}' olarak kaydedildi.\")"
   ]
  }
 ],
 "metadata": {
  "kernelspec": {
   "display_name": "tensorflow_gpu_model",
   "language": "python",
   "name": "python3"
  },
  "language_info": {
   "codemirror_mode": {
    "name": "ipython",
    "version": 3
   },
   "file_extension": ".py",
   "mimetype": "text/x-python",
   "name": "python",
   "nbconvert_exporter": "python",
   "pygments_lexer": "ipython3",
   "version": "3.9.23"
  }
 },
 "nbformat": 4,
 "nbformat_minor": 5
}
