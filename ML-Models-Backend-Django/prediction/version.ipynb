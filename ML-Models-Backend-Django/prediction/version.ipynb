{
 "cells": [
  {
   "cell_type": "code",
   "execution_count": 1,
   "id": "56e1bb26",
   "metadata": {},
   "outputs": [
    {
     "name": "stdout",
     "output_type": "stream",
     "text": [
      "Name: numpy\n",
      "Version: 1.23.5\n",
      "Summary: NumPy is the fundamental package for array computing with Python.\n",
      "Home-page: https://www.numpy.org\n",
      "Author: Travis E. Oliphant et al.\n",
      "Author-email: \n",
      "License: BSD\n",
      "Location: c:\\users\\mehme\\anaconda3\\envs\\tensorflow_gpu_model\\lib\\site-packages\n",
      "Requires: \n",
      "Required-by: contourpy, h5py, imagecodecs, imageio, imbalanced-learn, Keras-Preprocessing, lightgbm, matplotlib, mkl_fft, mkl_random, nibabel, onnx, opencv-python, pandas, PyWavelets, scikit-image, scikit-learn, scipy, seaborn, tensorboard, tensorflow, tf2onnx, tifffile, xgboost\n"
     ]
    }
   ],
   "source": [
    "!pip show numpy"
   ]
  }
 ],
 "metadata": {
  "kernelspec": {
   "display_name": "tensorflow_gpu_model",
   "language": "python",
   "name": "python3"
  },
  "language_info": {
   "codemirror_mode": {
    "name": "ipython",
    "version": 3
   },
   "file_extension": ".py",
   "mimetype": "text/x-python",
   "name": "python",
   "nbconvert_exporter": "python",
   "pygments_lexer": "ipython3",
   "version": "3.9.23"
  }
 },
 "nbformat": 4,
 "nbformat_minor": 5
}
